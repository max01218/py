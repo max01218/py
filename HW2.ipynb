{
  "nbformat": 4,
  "nbformat_minor": 0,
  "metadata": {
    "colab": {
      "provenance": [],
      "collapsed_sections": [],
      "authorship_tag": "ABX9TyN2mbBJ965pTDiFQIRSsMVC",
      "include_colab_link": true
    },
    "kernelspec": {
      "name": "python3",
      "display_name": "Python 3"
    },
    "language_info": {
      "name": "python"
    }
  },
  "cells": [
    {
      "cell_type": "markdown",
      "metadata": {
        "id": "view-in-github",
        "colab_type": "text"
      },
      "source": [
        "<a href=\"https://colab.research.google.com/github/max01218/py/blob/master/HW2.ipynb\" target=\"_parent\"><img src=\"https://colab.research.google.com/assets/colab-badge.svg\" alt=\"Open In Colab\"/></a>"
      ]
    },
    {
      "cell_type": "markdown",
      "source": [
        "##MY WAY##"
      ],
      "metadata": {
        "id": "LNKjd0bctgS7"
      }
    },
    {
      "cell_type": "code",
      "execution_count": 79,
      "metadata": {
        "id": "YDBJxBrZRpwA"
      },
      "outputs": [],
      "source": [
        "import numpy as np\n",
        "import tensorflow as tf\n",
        "import tensorflow.keras as keras\n",
        "#(xr,yr), (xt,yt)= keras.datasets.mnist.load_data()\n",
        "(train_images,train_labels),(test_images,test_labels)=keras.datasets.mnist.load_data()"
      ]
    },
    {
      "cell_type": "code",
      "source": [
        "x= train_images[43]\n",
        "#%%\n",
        "for i in range(28):\n",
        "    for j in range(28):\n",
        "        z= x[i,j]\n",
        "        print(f'{z:3d}', end='')\n",
        "    print()\n",
        "import matplotlib.pyplot as pl\n",
        "pl.imshow(x)\n"
      ],
      "metadata": {
        "colab": {
          "base_uri": "https://localhost:8080/",
          "height": 768
        },
        "id": "bkwCj-c5RuoB",
        "outputId": "f8f449aa-36c4-4746-c325-0894765d2846"
      },
      "execution_count": 80,
      "outputs": [
        {
          "output_type": "stream",
          "name": "stdout",
          "text": [
            "  0  0  0  0  0  0  0  0  0  0  0  0  0  0  0  0  0  0  0  0  0  0  0  0  0  0  0  0\n",
            "  0  0  0  0  0  0  0  0  0  0  0  0  0  0  0  0  0  0  0  0  0  0  0  0  0  0  0  0\n",
            "  0  0  0  0  0  0  0  0  0  0  0  0  0  0  0  0  0  0  0  0  0  0  0  0  0  0  0  0\n",
            "  0  0  0  0  0  0  0  0  0  0  0  0  0  0  0  0  0  0  0  0  0  0  0  0  0  0  0  0\n",
            "  0  0  0  0  0  0  0  0  0  0  0  0  0  0  0  0  0  0  0  0  0  0  0  0  0  0  0  0\n",
            "  0  0  0  0  0  0  0  0  0  0  0  0  0  0  0  0  0  0  0  0  0  0  0  0  0  0  0  0\n",
            "  0  0  0  0  0  0  0  0  0  0  0  0  0 31193254253254213 21  0  0  0  0  0  0  0  0\n",
            "  0  0  0  0  0  0  0  0  0  0  0  0 41173252253252253252183  0  0  0  0  0  0  0  0\n",
            "  0  0  0  0  0  0  0  0  0  0  0 92233244203102 20 72253142  0  0  0  0  0  0  0  0\n",
            "  0  0  0  0  0  0  0  0  0  0  0233212 81  0 21102193171 20  0  0  0  0  0  0  0  0\n",
            "  0  0  0  0  0  0  0  0  0  0123254151  0  0 62122254151  0  0  0  0  0  0  0  0  0\n",
            "  0  0  0  0  0  0  0  0  0  0203253151  0  0  0183253111  0  0  0  0  0  0  0  0  0\n",
            "  0  0  0  0  0  0  0  0  0  0 41254213152 71173253224 20  0  0  0  0  0  0  0  0  0\n",
            "  0  0  0  0  0  0  0  0  0  0  0172252253252253252203  0  0  0  0  0  0  0  0  0  0\n",
            "  0  0  0  0  0  0  0  0  0  0  0  0 82163203214253102  0  0  0  0  0  0  0  0  0  0\n",
            "  0  0  0  0  0  0  0  0  0  0  0  0  0  0  0253252102  0  0  0  0  0  0  0  0  0  0\n",
            "  0  0  0  0  0  0  0  0  0  0  0  0  0  0 82254233  0  0  0  0  0  0  0  0  0  0  0\n",
            "  0  0  0  0  0  0  0  0  0  0  0  0  0 41243253 70  0  0  0  0  0  0  0  0  0  0  0\n",
            "  0  0  0  0  0  0  0  0  0  0  0  0  0 72253203  0  0  0  0  0  0  0  0  0  0  0  0\n",
            "  0  0  0  0  0  0  0  0  0  0  0  0 41233252 81  0  0  0  0  0  0  0  0  0  0  0  0\n",
            "  0  0  0  0  0  0  0  0  0  0  0  0123254233  0  0  0  0  0  0  0  0  0  0  0  0  0\n",
            "  0  0  0  0  0  0  0  0  0  0  0 21223253111  0  0  0  0  0  0  0  0  0  0  0  0  0\n",
            "  0  0  0  0  0  0  0  0  0  0  0173253142  0  0  0  0  0  0  0  0  0  0  0  0  0  0\n",
            "  0  0  0  0  0  0  0  0  0  0 82253212 20  0  0  0  0  0  0  0  0  0  0  0  0  0  0\n",
            "  0  0  0  0  0  0  0  0  0 11213255131  0  0  0  0  0  0  0  0  0  0  0  0  0  0  0\n",
            "  0  0  0  0  0  0  0  0  0 51252192 30  0  0  0  0  0  0  0  0  0  0  0  0  0  0  0\n",
            "  0  0  0  0  0  0  0  0  0  0  0  0  0  0  0  0  0  0  0  0  0  0  0  0  0  0  0  0\n",
            "  0  0  0  0  0  0  0  0  0  0  0  0  0  0  0  0  0  0  0  0  0  0  0  0  0  0  0  0\n"
          ]
        },
        {
          "output_type": "execute_result",
          "data": {
            "text/plain": [
              "<matplotlib.image.AxesImage at 0x7eff790fb1d0>"
            ]
          },
          "metadata": {},
          "execution_count": 80
        },
        {
          "output_type": "display_data",
          "data": {
            "text/plain": [
              "<Figure size 432x288 with 1 Axes>"
            ],
            "image/png": "[encoded data removed]"
          },
          "metadata": {
            "needs_background": "light"
          }
        }
      ]
    },
    {
      "cell_type": "code",
      "source": [
        "# xr1= train_images.reshape(-1, 28*28) \n",
        "# xt1= test_images.reshape(-1, 28*28) "
      ],
      "metadata": {
        "id": "WddPDO0wRzSY"
      },
      "execution_count": 81,
      "outputs": []
    },
    {
      "cell_type": "code",
      "source": [
        "aModel= keras.Sequential([\n",
        "    keras.Input(28*28),\n",
        "    keras.layers.Dense(256,activation=\"relu\"),    \n",
        "    keras.layers.Dense(10,activation='softmax')   \n",
        "    ])\n",
        "\n",
        "aModel.compile(\n",
        "    optimizer = 'adam', # 優化器\n",
        "    loss = 'categorical_crossentropy', # 損失函數\n",
        "    metrics = ['accuracy'] # 評量準則\n",
        "    )"
      ],
      "metadata": {
        "id": "JtlfiVvqR0XD"
      },
      "execution_count": 82,
      "outputs": []
    },
    {
      "cell_type": "code",
      "source": [
        "train_images = train_images.reshape((-1,28*28))\n",
        "train_images = train_images.astype('float32')/ 255\n",
        "\n",
        "test_images = test_images.reshape((-1,28*28))\n",
        "test_images = test_images.astype('float32')/ 255"
      ],
      "metadata": {
        "id": "Bjo1qhcLq--X"
      },
      "execution_count": 83,
      "outputs": []
    },
    {
      "cell_type": "code",
      "source": [
        "from tensorflow.keras.utils import to_categorical\n",
        "\n",
        "train_labels = to_categorical(train_labels)\n",
        "test_labels = to_categorical(test_labels)"
      ],
      "metadata": {
        "id": "gM-16yQvqugY"
      },
      "execution_count": 84,
      "outputs": []
    },
    {
      "cell_type": "code",
      "source": [
        "aModel.fit(train_images,train_labels,epochs=16,batch_size=128,validation_split=0.2)"
      ],
      "metadata": {
        "colab": {
          "base_uri": "https://localhost:8080/"
        },
        "id": "op0IwnxlqyjE",
        "outputId": "4a4db065-90e6-4cad-85c4-58bd78ff107c"
      },
      "execution_count": 85,
      "outputs": [
        {
          "output_type": "stream",
          "name": "stdout",
          "text": [
            "Epoch 1/16\n",
            "375/375 [==============================] - 3s 7ms/step - loss: 0.3349 - accuracy: 0.9081 - val_loss: 0.1790 - val_accuracy: 0.9494\n",
            "Epoch 2/16\n",
            "375/375 [==============================] - 2s 7ms/step - loss: 0.1484 - accuracy: 0.9580 - val_loss: 0.1279 - val_accuracy: 0.9632\n",
            "Epoch 3/16\n",
            "375/375 [==============================] - 2s 7ms/step - loss: 0.1027 - accuracy: 0.9706 - val_loss: 0.1082 - val_accuracy: 0.9692\n",
            "Epoch 4/16\n",
            "375/375 [==============================] - 2s 7ms/step - loss: 0.0758 - accuracy: 0.9781 - val_loss: 0.0952 - val_accuracy: 0.9712\n",
            "Epoch 5/16\n",
            "375/375 [==============================] - 2s 7ms/step - loss: 0.0583 - accuracy: 0.9834 - val_loss: 0.0901 - val_accuracy: 0.9726\n",
            "Epoch 6/16\n",
            "375/375 [==============================] - 2s 6ms/step - loss: 0.0451 - accuracy: 0.9875 - val_loss: 0.0837 - val_accuracy: 0.9754\n",
            "Epoch 7/16\n",
            "375/375 [==============================] - 2s 6ms/step - loss: 0.0358 - accuracy: 0.9901 - val_loss: 0.0813 - val_accuracy: 0.9758\n",
            "Epoch 8/16\n",
            "375/375 [==============================] - 2s 6ms/step - loss: 0.0287 - accuracy: 0.9925 - val_loss: 0.0798 - val_accuracy: 0.9758\n",
            "Epoch 9/16\n",
            "375/375 [==============================] - 2s 6ms/step - loss: 0.0229 - accuracy: 0.9939 - val_loss: 0.0804 - val_accuracy: 0.9764\n",
            "Epoch 10/16\n",
            "375/375 [==============================] - 2s 7ms/step - loss: 0.0187 - accuracy: 0.9957 - val_loss: 0.0812 - val_accuracy: 0.9768\n",
            "Epoch 11/16\n",
            "375/375 [==============================] - 2s 7ms/step - loss: 0.0146 - accuracy: 0.9968 - val_loss: 0.0840 - val_accuracy: 0.9766\n",
            "Epoch 12/16\n",
            "375/375 [==============================] - 2s 7ms/step - loss: 0.0111 - accuracy: 0.9982 - val_loss: 0.0820 - val_accuracy: 0.9767\n",
            "Epoch 13/16\n",
            "375/375 [==============================] - 2s 7ms/step - loss: 0.0098 - accuracy: 0.9980 - val_loss: 0.0836 - val_accuracy: 0.9772\n",
            "Epoch 14/16\n",
            "375/375 [==============================] - 2s 7ms/step - loss: 0.0075 - accuracy: 0.9990 - val_loss: 0.0822 - val_accuracy: 0.9785\n",
            "Epoch 15/16\n",
            "375/375 [==============================] - 2s 7ms/step - loss: 0.0058 - accuracy: 0.9993 - val_loss: 0.0820 - val_accuracy: 0.9775\n",
            "Epoch 16/16\n",
            "375/375 [==============================] - 3s 7ms/step - loss: 0.0054 - accuracy: 0.9990 - val_loss: 0.0856 - val_accuracy: 0.9782\n"
          ]
        },
        {
          "output_type": "execute_result",
          "data": {
            "text/plain": [
              "<keras.callbacks.History at 0x7eff7916cd90>"
            ]
          },
          "metadata": {},
          "execution_count": 85
        }
      ]
    },
    {
      "cell_type": "code",
      "source": [
        "aModel.summary()\n",
        "\n",
        "keras.utils.plot_model(aModel, \n",
        "    show_shapes= True, \n",
        "    show_layer_activations= True)"
      ],
      "metadata": {
        "colab": {
          "base_uri": "https://localhost:8080/",
          "height": 538
        },
        "id": "KLwfiITlR1sr",
        "outputId": "decea59f-00cc-407e-efc7-28eb94219c3b"
      },
      "execution_count": 86,
      "outputs": [
        {
          "output_type": "stream",
          "name": "stdout",
          "text": [
            "Model: \"sequential_13\"\n",
            "_________________________________________________________________\n",
            " Layer (type)                Output Shape              Param #   \n",
            "=================================================================\n",
            " dense_27 (Dense)            (None, 256)               200960    \n",
            "                                                                 \n",
            " dense_28 (Dense)            (None, 10)                2570      \n",
            "                                                                 \n",
            "=================================================================\n",
            "Total params: 203,530\n",
            "Trainable params: 203,530\n",
            "Non-trainable params: 0\n",
            "_________________________________________________________________\n"
          ]
        },
        {
          "output_type": "execute_result",
          "data": {
            "image/png": "[encoded data removed]",
            "text/plain": [
              "<IPython.core.display.Image object>"
            ]
          },
          "metadata": {},
          "execution_count": 86
        }
      ]
    },
    {
      "cell_type": "code",
      "source": [
        "test_loss , test_acc = aModel.evaluate(test_images,test_labels)\n",
        "print('test_acc:',test_acc)"
      ],
      "metadata": {
        "id": "Lvlc78IJUNSR",
        "colab": {
          "base_uri": "https://localhost:8080/"
        },
        "outputId": "e13869a9-8c8a-4e2f-893b-dd1f1a8ce5c6"
      },
      "execution_count": 87,
      "outputs": [
        {
          "output_type": "stream",
          "name": "stdout",
          "text": [
            "313/313 [==============================] - 1s 2ms/step - loss: 0.0761 - accuracy: 0.9789\n",
            "test_acc: 0.9789000153541565\n"
          ]
        }
      ]
    }
  ]
}